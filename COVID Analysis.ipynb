{
 "cells": [
  {
   "cell_type": "code",
   "execution_count": 1,
   "id": "41dba651",
   "metadata": {},
   "outputs": [],
   "source": [
    "import pandas as pd\n",
    "import datetime\n",
    "import matplotlib as plt\n",
    "import imageio\n",
    "import numpy as np\n",
    "import os\n",
    "from matplotlib.lines import Line2D\n",
    "%matplotlib inline"
   ]
  },
  {
   "cell_type": "markdown",
   "id": "d75950b8",
   "metadata": {},
   "source": [
    "# Vaccine data"
   ]
  },
  {
   "cell_type": "code",
   "execution_count": 2,
   "id": "32b6a2b3",
   "metadata": {
    "scrolled": true
   },
   "outputs": [
    {
     "name": "stderr",
     "output_type": "stream",
     "text": [
      "C:\\Users\\cthiel008\\Anaconda3\\lib\\site-packages\\IPython\\core\\interactiveshell.py:3165: DtypeWarning: Columns (23,24,25,26) have mixed types.Specify dtype option on import or set low_memory=False.\n",
      "  has_raised = await self.run_ast_nodes(code_ast.body, cell_name,\n"
     ]
    }
   ],
   "source": [
    "vaccine_df = pd.read_csv('Vaccines_County.csv')\n",
    "\n",
    "#creating a combined County Code - Date field on which I can merge the two datasets\n",
    "\n",
    "vaccine_df['formatted_date'] = vaccine_df['Date'].str[6:]+\"-\"+vaccine_df['Date'].str[0:2]+\"-\"+vaccine_df['Date'].str[3:5]\n",
    "\n",
    "vaccine_df['FIPS_Date'] = vaccine_df['formatted_date'] + \" ; \" + vaccine_df['FIPS']"
   ]
  },
  {
   "cell_type": "markdown",
   "id": "8680d622",
   "metadata": {},
   "source": [
    "# Case rate data"
   ]
  },
  {
   "cell_type": "code",
   "execution_count": 6,
   "id": "f51531a6",
   "metadata": {},
   "outputs": [],
   "source": [
    "case_df = pd.read_csv('https://raw.githubusercontent.com/nytimes/covid-19-data/master/rolling-averages/us-counties.csv')\n",
    "\n",
    "#formatting county code to remove GEO prefix\n",
    "case_df[\"FIPS\"] = case_df[\"geoid\"].str[4:]\n",
    "\n",
    "case_df['FIPS_Date'] = case_df['date']+\" ; \"+case_df['FIPS']\n",
    "\n",
    "case_df['date'] = pd.to_datetime(case_df['date'])\n",
    "\n",
    "#vaccinations started in January, so removing case data prior to Jan 1, 2021\n",
    "case_df = case_df.loc[case_df['date'] > datetime.datetime(2020,12,31)]\n"
   ]
  },
  {
   "cell_type": "markdown",
   "id": "e320c136",
   "metadata": {},
   "source": [
    "# Combine case and Vaccination Info "
   ]
  },
  {
   "cell_type": "code",
   "execution_count": 7,
   "id": "42e0dc3e",
   "metadata": {},
   "outputs": [],
   "source": [
    "caseVax_df = pd.merge(case_df, vaccine_df, on = \"FIPS_Date\", how = \"inner\")\n",
    "\n",
    "#created field with matching column name to merge with election data\n",
    "caseVax_df['county_fips'] = caseVax_df['FIPS_x']"
   ]
  },
  {
   "cell_type": "markdown",
   "id": "a0d1e194",
   "metadata": {},
   "source": [
    "# Election Data"
   ]
  },
  {
   "cell_type": "code",
   "execution_count": 8,
   "id": "26f0c8ac",
   "metadata": {},
   "outputs": [],
   "source": [
    "election_df = pd.read_csv('elections.csv')\n",
    "\n",
    "election_df = election_df.loc[election_df['year'] == 2020]\n",
    "\n",
    "#merge requires matching datatypes, so converting to string for merging\n",
    "election_df['county_fips'] = election_df['county_fips'].astype(str)\n",
    "\n",
    "#dropping decimal\n",
    "election_df['county_fips'] = election_df['county_fips'].str[:5]"
   ]
  },
  {
   "cell_type": "code",
   "execution_count": 9,
   "id": "90a9cf3d",
   "metadata": {},
   "outputs": [],
   "source": [
    "total_pivot = election_df.pivot_table(index = 'county_fips', values = \"totalvotes\", aggfunc = 'max')\n",
    "\n",
    "election_pivot = election_df.pivot_table(index = 'county_fips', columns = [\"candidate\"] , values = \"candidatevotes\", aggfunc = 'max')"
   ]
  },
  {
   "cell_type": "code",
   "execution_count": 10,
   "id": "4401096f",
   "metadata": {},
   "outputs": [],
   "source": [
    "election_merge = pd.merge(election_pivot, total_pivot, how = \"inner\", on = 'county_fips')\n",
    "\n",
    "election_merge['dt_%'] = election_merge['DONALD J TRUMP']/election_merge['totalvotes']\n",
    "\n",
    "election_merge.reset_index(inplace = True)"
   ]
  },
  {
   "cell_type": "markdown",
   "id": "8ccede47",
   "metadata": {},
   "source": [
    "# Demographic data"
   ]
  },
  {
   "cell_type": "code",
   "execution_count": 11,
   "id": "fa30126e",
   "metadata": {
    "scrolled": false
   },
   "outputs": [],
   "source": [
    "race_df = pd.read_csv('Race_Data.txt',delimiter = \"\\t\")\n",
    "\n",
    "race_pivot = race_df.pivot_table(index = 'County Code', columns = [\"Race\"] , values = \"Population\", aggfunc = 'max')\n",
    "\n",
    "race_pivot.fillna(0, inplace = True)"
   ]
  },
  {
   "cell_type": "code",
   "execution_count": 12,
   "id": "98b5e0fe",
   "metadata": {},
   "outputs": [],
   "source": [
    "total_pop = race_df.pivot_table(index = 'County Code', values = \"Population\", aggfunc = 'sum')"
   ]
  },
  {
   "cell_type": "code",
   "execution_count": 13,
   "id": "48a0aea3",
   "metadata": {},
   "outputs": [],
   "source": [
    "race_pop_merge = pd.merge(race_pivot, total_pop, on = \"County Code\", how = \"inner\")\n",
    "\n",
    "race_pop_merge['black_pop%'] = race_pop_merge['Black or African American']/race_pop_merge['Population']\n",
    "\n",
    "race_pop_merge.reset_index(inplace = True)\n",
    "\n",
    "race_pop_merge['county_fips'] = race_pop_merge['County Code'].astype(str)"
   ]
  },
  {
   "cell_type": "markdown",
   "id": "83d2783c",
   "metadata": {},
   "source": [
    "# Merge all datasets (vaccine, case, election, demographic)"
   ]
  },
  {
   "cell_type": "code",
   "execution_count": 14,
   "id": "f64f61fa",
   "metadata": {},
   "outputs": [],
   "source": [
    "temp_combine = pd.merge(caseVax_df,election_merge, on = \"county_fips\", how = \"inner\")\n",
    "\n",
    "final_combine = pd.merge(temp_combine,race_pop_merge,on = \"county_fips\", how = \"inner\")"
   ]
  },
  {
   "cell_type": "markdown",
   "id": "dad93c20",
   "metadata": {},
   "source": [
    "# Create Values for Plotting"
   ]
  },
  {
   "cell_type": "code",
   "execution_count": 45,
   "id": "123319d0",
   "metadata": {},
   "outputs": [
    {
     "name": "stderr",
     "output_type": "stream",
     "text": [
      "C:\\Users\\cthiel008\\Anaconda3\\lib\\site-packages\\pandas\\core\\indexing.py:1637: SettingWithCopyWarning: \n",
      "A value is trying to be set on a copy of a slice from a DataFrame\n",
      "\n",
      "See the caveats in the documentation: https://pandas.pydata.org/pandas-docs/stable/user_guide/indexing.html#returning-a-view-versus-a-copy\n",
      "  self._setitem_single_block(indexer, value, name)\n",
      "C:\\Users\\cthiel008\\Anaconda3\\lib\\site-packages\\pandas\\core\\indexing.py:1637: SettingWithCopyWarning: \n",
      "A value is trying to be set on a copy of a slice from a DataFrame\n",
      "\n",
      "See the caveats in the documentation: https://pandas.pydata.org/pandas-docs/stable/user_guide/indexing.html#returning-a-view-versus-a-copy\n",
      "  self._setitem_single_block(indexer, value, name)\n"
     ]
    }
   ],
   "source": [
    "final_combine['col'] = final_combine['dt_%']\n",
    "\n",
    "final_combine['col'].loc[final_combine['dt_%']>.5] = 'red'\n",
    "\n",
    "final_combine['col'].loc[final_combine['col'] != 'red'] = 'blue'\n",
    "\n",
    "\n",
    "#only creating alternate color for high black populations in counties that voted for Biden\n",
    "final_combine['col'].loc[(final_combine['col'] == \"blue\") & (final_combine['black_pop%']>.134)] = 'forestgreen'"
   ]
  },
  {
   "cell_type": "markdown",
   "id": "e8ff2072",
   "metadata": {},
   "source": [
    "# Create GIF using ImageIO"
   ]
  },
  {
   "cell_type": "code",
   "execution_count": 59,
   "id": "d2a8717c",
   "metadata": {},
   "outputs": [],
   "source": [
    "filenames = []\n",
    "plt.style.use('fivethirtyeight')\n",
    "plt.rcParams.update({'font.size': 14})\n",
    "\n",
    "#creates the key for the chart\n",
    "legend_elements = [Line2D([0], [0], marker='o', color='w', label='Trump',\n",
    "                          markerfacecolor='red', markersize=9),\n",
    "                  Line2D([0], [0], marker='o', color='w', label='Biden - Large Black Pop',\n",
    "                          markerfacecolor='blue', markersize=9),\n",
    "                  Line2D([0], [0], marker='o', color='w', label='Biden - Small Black Pop',\n",
    "                          markerfacecolor='forestgreen', markersize=9)]\n",
    "\n",
    "#Used range of 209 for looping to iterate over relevent dates\n",
    "for i in range(209):\n",
    "    day = datetime.datetime(2021,1,1) + datetime.timedelta(i)\n",
    "    \n",
    "    \n",
    "    test_data = final_combine.loc[final_combine['date'] == day]\n",
    "    \n",
    "    #plotting one day at a time\n",
    "    plot = test_data.plot.scatter(x = 'Administered_Dose1_Recip_18PlusPop_Pct', \n",
    "                           y = 'cases_avg_per_100k', \n",
    "                           figsize = (15,10), \n",
    "                           ylim = (0,200),\n",
    "                           xlim = (0,100),\n",
    "                           xlabel = \"% of Population Vaccinated\",\n",
    "                           ylabel = \"Cases per 100K\",\n",
    "                           c = test_data['col'],\n",
    "                           alpha = .4)\n",
    "    \n",
    "    #additional plot elements, including citation, titles, and adding the legend\n",
    "    plt.pyplot.annotate('Data collected from NYT(Cases), CDC(Vaccination, Population), and MIT(Election) \\nLarge black population defined as larger than the national average (13.4%)',\n",
    "                 (0,0), (620,-20),\n",
    "                fontsize = 9,\n",
    "                xycoords = 'axes fraction',\n",
    "                textcoords = 'offset points',\n",
    "                va = 'top',\n",
    "                style='italic')\n",
    "    plt.pyplot.suptitle('Covid Vaccination and Case rate by US County', fontsize = 20, fontweight = 'bold', y = .95)\n",
    "    plt.pyplot.title(day.strftime(\"%m/%d/%Y\"), fontsize = 15)\n",
    "    plt.pyplot.legend(handles=legend_elements, title = \"2020 Election Winner\", loc = 'upper right')\n",
    "\n",
    "    \n",
    "    filename = 'Day_'+str(i)+'.png'\n",
    "    \n",
    "    #creating two frames for each chart to slow down GIF speed\n",
    "    for j in range(2):\n",
    "        filenames.append(filename)\n",
    "    \n",
    "    #creating several frames of last graph to pause on last day\n",
    "    if i == 208:\n",
    "        for k in range(60):\n",
    "            filenames.append(filename)\n",
    "            \n",
    "    \n",
    "    plt.pyplot.savefig(\"vax_gif_frames/\"+filename)\n",
    "    plt.pyplot.close()\n",
    "\n",
    "#use ImageIO to create gif from list of files created in loop\n",
    "with imageio.get_writer('mygif.gif', mode='I') as writer:\n",
    "    for filename in filenames:\n",
    "        image = imageio.imread(\"vax_gif_frames/\"+filename)\n",
    "        writer.append_data(image)\n",
    "        \n",
    "# Remove files\n",
    "for filename in set(filenames):\n",
    "    os.remove(\"vax_gif_frames/\"+filename)"
   ]
  },
  {
   "cell_type": "code",
   "execution_count": null,
   "id": "4f7437a7",
   "metadata": {},
   "outputs": [],
   "source": []
  }
 ],
 "metadata": {
  "kernelspec": {
   "display_name": "Python 3",
   "language": "python",
   "name": "python3"
  },
  "language_info": {
   "codemirror_mode": {
    "name": "ipython",
    "version": 3
   },
   "file_extension": ".py",
   "mimetype": "text/x-python",
   "name": "python",
   "nbconvert_exporter": "python",
   "pygments_lexer": "ipython3",
   "version": "3.8.10"
  }
 },
 "nbformat": 4,
 "nbformat_minor": 5
}
