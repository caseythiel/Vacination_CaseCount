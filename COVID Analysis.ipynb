{
 "cells": [
  {
   "cell_type": "code",
   "execution_count": 298,
   "id": "41dba651",
   "metadata": {},
   "outputs": [],
   "source": [
    "import pandas as pd\n",
    "import datetime\n",
    "import matplotlib as plt\n",
    "import imageio\n",
    "import numpy as np\n",
    "import os\n",
    "from matplotlib.lines import Line2D\n",
    "%matplotlib inline"
   ]
  },
  {
   "cell_type": "markdown",
   "id": "ac5111fc",
   "metadata": {},
   "source": [
    "# Vaccine data"
   ]
  },
  {
   "cell_type": "code",
   "execution_count": 5,
   "id": "32b6a2b3",
   "metadata": {
    "scrolled": true
   },
   "outputs": [
    {
     "name": "stderr",
     "output_type": "stream",
     "text": [
      "C:\\Users\\cthiel008\\Anaconda3\\lib\\site-packages\\IPython\\core\\interactiveshell.py:3165: DtypeWarning: Columns (23,24,25,26) have mixed types.Specify dtype option on import or set low_memory=False.\n",
      "  has_raised = await self.run_ast_nodes(code_ast.body, cell_name,\n"
     ]
    }
   ],
   "source": [
    "vaccine_df = pd.read_csv('Vaccines_County.csv')\n",
    "\n",
    "vaccine_df['formatted_date'] = vaccine_df['Date'].str[6:]+\"-\"+vaccine_df['Date'].str[0:2]+\"-\"+vaccine_df['Date'].str[3:5]\n",
    "\n",
    "vaccine_df['FIPS_Date'] = vaccine_df['formatted_date'] + \" ; \" + vaccine_df['FIPS']\n",
    "\n",
    "vaccine_df.head()"
   ]
  },
  {
   "cell_type": "markdown",
   "id": "8ae449fe",
   "metadata": {},
   "source": [
    "# Case rate data"
   ]
  },
  {
   "cell_type": "code",
   "execution_count": 10,
   "id": "f51531a6",
   "metadata": {},
   "outputs": [],
   "source": [
    "case_df = pd.read_csv('https://raw.githubusercontent.com/nytimes/covid-19-data/master/rolling-averages/us-counties.csv')\n",
    "\n",
    "case_df[\"FIPS\"] = case_df[\"geoid\"].str[4:]\n",
    "\n",
    "case_df['FIPS_Date'] = case_df['date']+\" ; \"+case_df['FIPS']\n",
    "\n",
    "case_df['date'] = pd.to_datetime(case_df['date'])\n",
    "\n",
    "case_df = case_df.loc[case_df['date'] > datetime.datetime(2020,12,31)]\n",
    "\n",
    "case_df['date'].min()"
   ]
  },
  {
   "cell_type": "markdown",
   "id": "dca7bd9c",
   "metadata": {},
   "source": [
    "# Combine case and Vaccination Info "
   ]
  },
  {
   "cell_type": "code",
   "execution_count": 15,
   "id": "353adcb1",
   "metadata": {},
   "outputs": [],
   "source": [
    "combined_df = pd.merge(case_df, vaccine_df, on = \"FIPS_Date\", how = \"inner\")\n",
    "\n",
    "combined_df['county_fips'] = combined_df['FIPS_x']\n",
    "\n",
    "combined_df['county_fips'] = combined_df['county_fips'].astype(int)\n",
    "\n",
    "combined_df.to_csv('combined_case_vaccine_data.csv')"
   ]
  },
  {
   "cell_type": "markdown",
   "id": "8b483d45",
   "metadata": {},
   "source": [
    "# Election Data"
   ]
  },
  {
   "cell_type": "code",
   "execution_count": 164,
   "id": "03a05302",
   "metadata": {},
   "outputs": [],
   "source": [
    "election_df = pd.read_csv('elections.csv')\n",
    "\n",
    "election_df = election_df.loc[election_df['year'] == 2020]\n",
    "\n",
    "election_df['county_fips'] = election_df['county_fips'].astype(str)\n",
    "\n",
    "election_df['county_fips'] = election_df['county_fips'].str[:5]"
   ]
  },
  {
   "cell_type": "code",
   "execution_count": 174,
   "id": "fd9a0a36",
   "metadata": {},
   "outputs": [],
   "source": [
    "total_pivot = election_df.pivot_table(index = 'county_fips', values = \"totalvotes\", aggfunc = 'max')\n",
    "\n",
    "election_pivot = election_df.pivot_table(index = 'county_fips', columns = [\"candidate\"] , values = \"candidatevotes\", aggfunc = 'max')"
   ]
  },
  {
   "cell_type": "code",
   "execution_count": 176,
   "id": "d5cd94c8",
   "metadata": {},
   "outputs": [],
   "source": [
    "election_merge = pd.merge(election_pivot, total_pivot, how = \"inner\", on = 'county_fips')\n",
    "\n",
    "election_merge['dt_%'] = election_merge['DONALD J TRUMP']/election_merge['totalvotes']\n",
    "\n",
    "election_merge.reset_index(inplace = True)"
   ]
  },
  {
   "cell_type": "markdown",
   "id": "225beacf",
   "metadata": {},
   "source": [
    "# Demographic data"
   ]
  },
  {
   "cell_type": "code",
   "execution_count": null,
   "id": "13624816",
   "metadata": {
    "scrolled": false
   },
   "outputs": [],
   "source": [
    "race_df = pd.read_csv('Race_Data.txt',delimiter = \"\\t\")\n",
    "\n",
    "race_pivot = race_df.pivot_table(index = 'County Code', columns = [\"Race\"] , values = \"Population\", aggfunc = 'max')\n",
    "\n",
    "race_pivot.fillna(0, inplace = True)"
   ]
  },
  {
   "cell_type": "code",
   "execution_count": null,
   "id": "790b7f6a",
   "metadata": {},
   "outputs": [],
   "source": [
    "total_pop = race_df.pivot_table(index = 'County Code', values = \"Population\", aggfunc = 'sum')\n",
    "\n",
    "race_pop_merge = pd.merge(race_pivot, total_pop, on = \"County Code\", how = \"inner\")"
   ]
  },
  {
   "cell_type": "code",
   "execution_count": 329,
   "id": "744a97e0",
   "metadata": {},
   "outputs": [],
   "source": [
    "race_pop_merge['black_pop%'] = race_pop_merge['Black or African American']/race_pop_merge['Population']\n",
    "\n",
    "race_pop_merge.reset_index(inplace = True)\n",
    "\n",
    "race_pop_merge['county_fips'] = race_pop_merge['County Code']"
   ]
  },
  {
   "cell_type": "markdown",
   "id": "450a778c",
   "metadata": {},
   "source": [
    "# Merge all datasets (vaccine, case, election, demographic)"
   ]
  },
  {
   "cell_type": "code",
   "execution_count": 335,
   "id": "1aab9fad",
   "metadata": {},
   "outputs": [],
   "source": [
    "temp_combine = pd.merge(combined_df,election_merge, on = \"county_fips\", how = \"inner\")\n",
    "\n",
    "final_combine = pd.merge(temp_combine,race_pop_merge,on = \"county_fips\", how = \"inner\")"
   ]
  },
  {
   "cell_type": "code",
   "execution_count": 339,
   "id": "4cf1c682",
   "metadata": {},
   "outputs": [],
   "source": [
    "final_combine.to_csv(\"final_combine.csv\")"
   ]
  },
  {
   "cell_type": "markdown",
   "id": "ea330805",
   "metadata": {},
   "source": [
    "# Create Values for Plotting"
   ]
  },
  {
   "cell_type": "code",
   "execution_count": null,
   "id": "44b4c3bc",
   "metadata": {},
   "outputs": [],
   "source": [
    "final_combine['col'] = final_combine['dt_%']\n",
    "\n",
    "final_combine['col'].loc[final_combine['dt_%']>.5] = 'red'\n",
    "\n",
    "final_combine['col'].loc[final_combine['col'] != 'red'] = 'blue'\n",
    "\n",
    "final_combine['col'].loc[(final_combine['col'] == \"blue\") & (final_combine['black_pop%']>.1)] = 'k'"
   ]
  },
  {
   "cell_type": "code",
   "execution_count": 394,
   "id": "ff07d17e",
   "metadata": {},
   "outputs": [],
   "source": [
    "# subset of dataset that contains most polarized counties (1st and 4th quartile for DT vote %)\n",
    "pop_final_combine = final_combine.loc[(final_combine['dt_%']>0.754582) | (final_combine['dt_%']<0.446836)]"
   ]
  },
  {
   "cell_type": "markdown",
   "id": "bfb58f04",
   "metadata": {},
   "source": [
    "# Created a test dataframe to try out different plot settings"
   ]
  },
  {
   "cell_type": "code",
   "execution_count": 399,
   "id": "145903e5",
   "metadata": {},
   "outputs": [],
   "source": [
    "filenames = []\n",
    "plt.style.use('fivethirtyeight')\n",
    "plt.rcParams.update({'font.size': 14})\n",
    "\n",
    "legend_elements = [Line2D([0], [0], marker='o', color='w', label='Trump',\n",
    "                          markerfacecolor='r', markersize=9),\n",
    "                  Line2D([0], [0], marker='o', color='w', label='Biden',\n",
    "                          markerfacecolor='b', markersize=9),\n",
    "                  Line2D([0], [0], marker='o', color='w', label='Biden - Black Pop > 10%',\n",
    "                          markerfacecolor='k', markersize=9),]\n",
    "\n",
    "\n",
    "for i in range(209):\n",
    "    day = datetime.datetime(2021,1,1) + datetime.timedelta(i)\n",
    "    \n",
    "    \n",
    "    test_data = pop_final_combine.loc[pop_final_combine['date'] == day]\n",
    "    \n",
    "    plot = test_data.plot.scatter(x = 'Administered_Dose1_Recip_18PlusPop_Pct', \n",
    "                           y = 'cases_avg_per_100k', \n",
    "                           figsize = (10,10), \n",
    "                           ylim = (0,200),\n",
    "                           xlim = (0,100),\n",
    "                           xlabel = \"% of Population Vaccinated\",\n",
    "                           ylabel = \"Cases per 100K\",\n",
    "                           c = test_data['col'],\n",
    "                           alpha = .4)\n",
    "    plt.pyplot.suptitle('Covid Vaccination and Case rate by US County', fontsize = 20, fontweight = 'bold', y = .95)\n",
    "    plt.pyplot.title(day.strftime(\"%m/%d/%Y\"), fontsize = 15)\n",
    "    plt.pyplot.legend(handles=legend_elements, title = \"2020 Election Winner\", loc = 'upper right')\n",
    "\n",
    "    \n",
    "    filename = 'Day_'+str(i)+'.png'\n",
    "    \n",
    "    for j in range(2):\n",
    "        filenames.append(filename)\n",
    "        \n",
    "    if i == 208:\n",
    "        for k in range(60):\n",
    "            filenames.append(filename)\n",
    "            \n",
    "    \n",
    "    plt.pyplot.savefig(\"vax_gif_frames/\"+filename)\n",
    "    plt.pyplot.close()\n",
    "\n",
    "with imageio.get_writer('mygif.gif', mode='I') as writer:\n",
    "    for filename in filenames:\n",
    "        image = imageio.imread(\"vax_gif_frames/\"+filename)\n",
    "        writer.append_data(image)\n",
    "        \n",
    "# Remove files\n",
    "for filename in set(filenames):\n",
    "    os.remove(\"vax_gif_frames/\"+filename)"
   ]
  }
 ],
 "metadata": {
  "kernelspec": {
   "display_name": "Python 3",
   "language": "python",
   "name": "python3"
  },
  "language_info": {
   "codemirror_mode": {
    "name": "ipython",
    "version": 3
   },
   "file_extension": ".py",
   "mimetype": "text/x-python",
   "name": "python",
   "nbconvert_exporter": "python",
   "pygments_lexer": "ipython3",
   "version": "3.8.10"
  }
 },
 "nbformat": 4,
 "nbformat_minor": 5
}
